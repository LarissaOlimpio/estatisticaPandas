{
 "cells": [
  {
   "cell_type": "code",
   "execution_count": 26,
   "metadata": {},
   "outputs": [],
   "source": [
    "#Larissa Aparecida Olimpio\n",
    "#Elieser de França Costa\n",
    "#4º ADS B\n",
    "import pandas as pd\n",
    "import statistics as st\n",
    "\n",
    "import matplotlib.pyplot as plt\n"
   ]
  },
  {
   "cell_type": "code",
   "execution_count": 2,
   "metadata": {},
   "outputs": [
    {
     "data": {
      "text/html": [
       "<div>\n",
       "<style scoped>\n",
       "    .dataframe tbody tr th:only-of-type {\n",
       "        vertical-align: middle;\n",
       "    }\n",
       "\n",
       "    .dataframe tbody tr th {\n",
       "        vertical-align: top;\n",
       "    }\n",
       "\n",
       "    .dataframe thead th {\n",
       "        text-align: right;\n",
       "    }\n",
       "</style>\n",
       "<table border=\"1\" class=\"dataframe\">\n",
       "  <thead>\n",
       "    <tr style=\"text-align: right;\">\n",
       "      <th></th>\n",
       "      <th>Rank</th>\n",
       "      <th>Name</th>\n",
       "      <th>Platform</th>\n",
       "      <th>Year</th>\n",
       "      <th>Genre</th>\n",
       "      <th>Publisher</th>\n",
       "      <th>NA_Sales</th>\n",
       "      <th>EU_Sales</th>\n",
       "      <th>JP_Sales</th>\n",
       "      <th>Other_Sales</th>\n",
       "      <th>Global_Sales</th>\n",
       "    </tr>\n",
       "  </thead>\n",
       "  <tbody>\n",
       "    <tr>\n",
       "      <th>0</th>\n",
       "      <td>1</td>\n",
       "      <td>Wii Sports</td>\n",
       "      <td>Wii</td>\n",
       "      <td>2006.0</td>\n",
       "      <td>Sports</td>\n",
       "      <td>Nintendo</td>\n",
       "      <td>41.49</td>\n",
       "      <td>29.02</td>\n",
       "      <td>3.77</td>\n",
       "      <td>8.46</td>\n",
       "      <td>82.74</td>\n",
       "    </tr>\n",
       "    <tr>\n",
       "      <th>1</th>\n",
       "      <td>2</td>\n",
       "      <td>Super Mario Bros.</td>\n",
       "      <td>NES</td>\n",
       "      <td>1985.0</td>\n",
       "      <td>Platform</td>\n",
       "      <td>Nintendo</td>\n",
       "      <td>29.08</td>\n",
       "      <td>3.58</td>\n",
       "      <td>6.81</td>\n",
       "      <td>0.77</td>\n",
       "      <td>40.24</td>\n",
       "    </tr>\n",
       "    <tr>\n",
       "      <th>2</th>\n",
       "      <td>3</td>\n",
       "      <td>Mario Kart Wii</td>\n",
       "      <td>Wii</td>\n",
       "      <td>2008.0</td>\n",
       "      <td>Racing</td>\n",
       "      <td>Nintendo</td>\n",
       "      <td>15.85</td>\n",
       "      <td>12.88</td>\n",
       "      <td>3.79</td>\n",
       "      <td>3.31</td>\n",
       "      <td>35.82</td>\n",
       "    </tr>\n",
       "    <tr>\n",
       "      <th>3</th>\n",
       "      <td>4</td>\n",
       "      <td>Wii Sports Resort</td>\n",
       "      <td>Wii</td>\n",
       "      <td>2009.0</td>\n",
       "      <td>Sports</td>\n",
       "      <td>Nintendo</td>\n",
       "      <td>15.75</td>\n",
       "      <td>11.01</td>\n",
       "      <td>3.28</td>\n",
       "      <td>2.96</td>\n",
       "      <td>33.00</td>\n",
       "    </tr>\n",
       "    <tr>\n",
       "      <th>4</th>\n",
       "      <td>5</td>\n",
       "      <td>Pokemon Red/Pokemon Blue</td>\n",
       "      <td>GB</td>\n",
       "      <td>1996.0</td>\n",
       "      <td>Role-Playing</td>\n",
       "      <td>Nintendo</td>\n",
       "      <td>11.27</td>\n",
       "      <td>8.89</td>\n",
       "      <td>10.22</td>\n",
       "      <td>1.00</td>\n",
       "      <td>31.37</td>\n",
       "    </tr>\n",
       "  </tbody>\n",
       "</table>\n",
       "</div>"
      ],
      "text/plain": [
       "   Rank                      Name Platform    Year         Genre Publisher  \\\n",
       "0     1                Wii Sports      Wii  2006.0        Sports  Nintendo   \n",
       "1     2         Super Mario Bros.      NES  1985.0      Platform  Nintendo   \n",
       "2     3            Mario Kart Wii      Wii  2008.0        Racing  Nintendo   \n",
       "3     4         Wii Sports Resort      Wii  2009.0        Sports  Nintendo   \n",
       "4     5  Pokemon Red/Pokemon Blue       GB  1996.0  Role-Playing  Nintendo   \n",
       "\n",
       "   NA_Sales  EU_Sales  JP_Sales  Other_Sales  Global_Sales  \n",
       "0     41.49     29.02      3.77         8.46         82.74  \n",
       "1     29.08      3.58      6.81         0.77         40.24  \n",
       "2     15.85     12.88      3.79         3.31         35.82  \n",
       "3     15.75     11.01      3.28         2.96         33.00  \n",
       "4     11.27      8.89     10.22         1.00         31.37  "
      ]
     },
     "execution_count": 2,
     "metadata": {},
     "output_type": "execute_result"
    }
   ],
   "source": [
    "df = pd.read_csv('vgsales.csv')\n",
    "\n",
    "df.head()\n"
   ]
  },
  {
   "cell_type": "code",
   "execution_count": 11,
   "metadata": {
    "scrolled": true
   },
   "outputs": [
    {
     "data": {
      "text/plain": [
       "0.5374406555006628"
      ]
     },
     "execution_count": 11,
     "metadata": {},
     "output_type": "execute_result"
    }
   ],
   "source": [
    "st.mean(df.Global_Sales) #calculando a media"
   ]
  },
  {
   "cell_type": "code",
   "execution_count": 12,
   "metadata": {},
   "outputs": [
    {
     "data": {
      "text/plain": [
       "0.02"
      ]
     },
     "execution_count": 12,
     "metadata": {},
     "output_type": "execute_result"
    }
   ],
   "source": [
    "st.mode(df.Global_Sales)#calculando a moda"
   ]
  },
  {
   "cell_type": "code",
   "execution_count": 14,
   "metadata": {},
   "outputs": [
    {
     "data": {
      "text/plain": [
       "1.5550279355699124"
      ]
     },
     "execution_count": 14,
     "metadata": {},
     "output_type": "execute_result"
    }
   ],
   "source": [
    "st.stdev(df.Global_Sales)#calculando o desvio padrão"
   ]
  },
  {
   "cell_type": "code",
   "execution_count": 15,
   "metadata": {},
   "outputs": [
    {
     "data": {
      "text/plain": [
       "2.4181118804028237"
      ]
     },
     "execution_count": 15,
     "metadata": {},
     "output_type": "execute_result"
    }
   ],
   "source": [
    "st.variance(df.Global_Sales)#calculando a variancia"
   ]
  },
  {
   "cell_type": "code",
   "execution_count": 16,
   "metadata": {},
   "outputs": [
    {
     "data": {
      "text/plain": [
       "0.17"
      ]
     },
     "execution_count": 16,
     "metadata": {},
     "output_type": "execute_result"
    }
   ],
   "source": [
    "st.median(df.Global_Sales)#calculando a mediana"
   ]
  },
  {
   "cell_type": "code",
   "execution_count": 12,
   "metadata": {},
   "outputs": [
    {
     "data": {
      "text/html": [
       "<div>\n",
       "<style scoped>\n",
       "    .dataframe tbody tr th:only-of-type {\n",
       "        vertical-align: middle;\n",
       "    }\n",
       "\n",
       "    .dataframe tbody tr th {\n",
       "        vertical-align: top;\n",
       "    }\n",
       "\n",
       "    .dataframe thead th {\n",
       "        text-align: right;\n",
       "    }\n",
       "</style>\n",
       "<table border=\"1\" class=\"dataframe\">\n",
       "  <thead>\n",
       "    <tr style=\"text-align: right;\">\n",
       "      <th></th>\n",
       "      <th>DATE_OF_INTEREST</th>\n",
       "      <th>CASE_COUNT</th>\n",
       "      <th>HOSPITALIZED_COUNT</th>\n",
       "      <th>DEATH_COUNT</th>\n",
       "      <th>DEATH_COUNT_PROBABLE</th>\n",
       "      <th>CASE_COUNT_7DAY_AVG</th>\n",
       "      <th>HOSP_COUNT_7DAY_AVG</th>\n",
       "      <th>DEATH_COUNT_7DAY_AVG</th>\n",
       "      <th>BX_CASE_COUNT</th>\n",
       "      <th>BX_HOSPITALIZED_COUNT</th>\n",
       "      <th>...</th>\n",
       "      <th>QN_CASE_COUNT_7DAY_AVG</th>\n",
       "      <th>QN_HOSPITALIZED_COUNT_7DAY_AVG</th>\n",
       "      <th>QN_DEATH_COUNT_7DAY_AVG</th>\n",
       "      <th>SI_CASE_COUNT</th>\n",
       "      <th>SI_HOSPITALIZED_COUNT</th>\n",
       "      <th>SI_DEATH_COUNT</th>\n",
       "      <th>SI_CASE_COUNT_7DAY_AVG</th>\n",
       "      <th>SI_HOSPITALIZED_COUNT_7DAY_AVG</th>\n",
       "      <th>SI_DEATH_COUNT_7DAY_AVG</th>\n",
       "      <th>INCOMPLETE</th>\n",
       "    </tr>\n",
       "  </thead>\n",
       "  <tbody>\n",
       "    <tr>\n",
       "      <th>271</th>\n",
       "      <td>11/26/2020</td>\n",
       "      <td>703</td>\n",
       "      <td>142</td>\n",
       "      <td>6</td>\n",
       "      <td>2</td>\n",
       "      <td>1575</td>\n",
       "      <td>114</td>\n",
       "      <td>10</td>\n",
       "      <td>118</td>\n",
       "      <td>28</td>\n",
       "      <td>...</td>\n",
       "      <td>406</td>\n",
       "      <td>33</td>\n",
       "      <td>2</td>\n",
       "      <td>82</td>\n",
       "      <td>22</td>\n",
       "      <td>1</td>\n",
       "      <td>196</td>\n",
       "      <td>18</td>\n",
       "      <td>2</td>\n",
       "      <td>6000</td>\n",
       "    </tr>\n",
       "    <tr>\n",
       "      <th>272</th>\n",
       "      <td>11/27/2020</td>\n",
       "      <td>1987</td>\n",
       "      <td>128</td>\n",
       "      <td>12</td>\n",
       "      <td>2</td>\n",
       "      <td>1613</td>\n",
       "      <td>116</td>\n",
       "      <td>11</td>\n",
       "      <td>300</td>\n",
       "      <td>25</td>\n",
       "      <td>...</td>\n",
       "      <td>426</td>\n",
       "      <td>32</td>\n",
       "      <td>2</td>\n",
       "      <td>241</td>\n",
       "      <td>20</td>\n",
       "      <td>4</td>\n",
       "      <td>199</td>\n",
       "      <td>19</td>\n",
       "      <td>2</td>\n",
       "      <td>6000</td>\n",
       "    </tr>\n",
       "    <tr>\n",
       "      <th>273</th>\n",
       "      <td>11/28/2020</td>\n",
       "      <td>1538</td>\n",
       "      <td>113</td>\n",
       "      <td>8</td>\n",
       "      <td>4</td>\n",
       "      <td>1657</td>\n",
       "      <td>117</td>\n",
       "      <td>11</td>\n",
       "      <td>275</td>\n",
       "      <td>21</td>\n",
       "      <td>...</td>\n",
       "      <td>447</td>\n",
       "      <td>33</td>\n",
       "      <td>2</td>\n",
       "      <td>176</td>\n",
       "      <td>12</td>\n",
       "      <td>1</td>\n",
       "      <td>203</td>\n",
       "      <td>18</td>\n",
       "      <td>2</td>\n",
       "      <td>6000</td>\n",
       "    </tr>\n",
       "    <tr>\n",
       "      <th>274</th>\n",
       "      <td>11/29/2020</td>\n",
       "      <td>1304</td>\n",
       "      <td>122</td>\n",
       "      <td>8</td>\n",
       "      <td>3</td>\n",
       "      <td>1686</td>\n",
       "      <td>120</td>\n",
       "      <td>11</td>\n",
       "      <td>163</td>\n",
       "      <td>29</td>\n",
       "      <td>...</td>\n",
       "      <td>466</td>\n",
       "      <td>33</td>\n",
       "      <td>2</td>\n",
       "      <td>200</td>\n",
       "      <td>21</td>\n",
       "      <td>3</td>\n",
       "      <td>207</td>\n",
       "      <td>19</td>\n",
       "      <td>2</td>\n",
       "      <td>6000</td>\n",
       "    </tr>\n",
       "    <tr>\n",
       "      <th>275</th>\n",
       "      <td>11/30/2020</td>\n",
       "      <td>1873</td>\n",
       "      <td>88</td>\n",
       "      <td>12</td>\n",
       "      <td>5</td>\n",
       "      <td>1643</td>\n",
       "      <td>115</td>\n",
       "      <td>11</td>\n",
       "      <td>312</td>\n",
       "      <td>30</td>\n",
       "      <td>...</td>\n",
       "      <td>456</td>\n",
       "      <td>33</td>\n",
       "      <td>2</td>\n",
       "      <td>175</td>\n",
       "      <td>8</td>\n",
       "      <td>1</td>\n",
       "      <td>193</td>\n",
       "      <td>16</td>\n",
       "      <td>2</td>\n",
       "      <td>6000</td>\n",
       "    </tr>\n",
       "  </tbody>\n",
       "</table>\n",
       "<p>5 rows × 39 columns</p>\n",
       "</div>"
      ],
      "text/plain": [
       "    DATE_OF_INTEREST  CASE_COUNT  HOSPITALIZED_COUNT  DEATH_COUNT  \\\n",
       "271       11/26/2020         703                 142            6   \n",
       "272       11/27/2020        1987                 128           12   \n",
       "273       11/28/2020        1538                 113            8   \n",
       "274       11/29/2020        1304                 122            8   \n",
       "275       11/30/2020        1873                  88           12   \n",
       "\n",
       "     DEATH_COUNT_PROBABLE  CASE_COUNT_7DAY_AVG  HOSP_COUNT_7DAY_AVG  \\\n",
       "271                     2                 1575                  114   \n",
       "272                     2                 1613                  116   \n",
       "273                     4                 1657                  117   \n",
       "274                     3                 1686                  120   \n",
       "275                     5                 1643                  115   \n",
       "\n",
       "     DEATH_COUNT_7DAY_AVG  BX_CASE_COUNT  BX_HOSPITALIZED_COUNT  ...  \\\n",
       "271                    10            118                     28  ...   \n",
       "272                    11            300                     25  ...   \n",
       "273                    11            275                     21  ...   \n",
       "274                    11            163                     29  ...   \n",
       "275                    11            312                     30  ...   \n",
       "\n",
       "     QN_CASE_COUNT_7DAY_AVG  QN_HOSPITALIZED_COUNT_7DAY_AVG  \\\n",
       "271                     406                              33   \n",
       "272                     426                              32   \n",
       "273                     447                              33   \n",
       "274                     466                              33   \n",
       "275                     456                              33   \n",
       "\n",
       "     QN_DEATH_COUNT_7DAY_AVG  SI_CASE_COUNT  SI_HOSPITALIZED_COUNT  \\\n",
       "271                        2             82                     22   \n",
       "272                        2            241                     20   \n",
       "273                        2            176                     12   \n",
       "274                        2            200                     21   \n",
       "275                        2            175                      8   \n",
       "\n",
       "     SI_DEATH_COUNT  SI_CASE_COUNT_7DAY_AVG  SI_HOSPITALIZED_COUNT_7DAY_AVG  \\\n",
       "271               1                     196                              18   \n",
       "272               4                     199                              19   \n",
       "273               1                     203                              18   \n",
       "274               3                     207                              19   \n",
       "275               1                     193                              16   \n",
       "\n",
       "     SI_DEATH_COUNT_7DAY_AVG  INCOMPLETE  \n",
       "271                        2        6000  \n",
       "272                        2        6000  \n",
       "273                        2        6000  \n",
       "274                        2        6000  \n",
       "275                        2        6000  \n",
       "\n",
       "[5 rows x 39 columns]"
      ]
     },
     "execution_count": 12,
     "metadata": {},
     "output_type": "execute_result"
    }
   ],
   "source": [
    "df = pd.read_csv('COVID-19_Daily_Counts_of_Cases__Hospitalizations__and_Deaths.csv')\n",
    "\n",
    "df.tail()"
   ]
  },
  {
   "cell_type": "code",
   "execution_count": 31,
   "metadata": {},
   "outputs": [
    {
     "data": {
      "text/plain": [
       "count     276.000000\n",
       "mean     1085.177536\n",
       "std      1365.525162\n",
       "min         0.000000\n",
       "25%       292.750000\n",
       "50%       458.500000\n",
       "75%      1232.500000\n",
       "max      6352.000000\n",
       "Name: CASE_COUNT, dtype: float64"
      ]
     },
     "execution_count": 31,
     "metadata": {},
     "output_type": "execute_result"
    }
   ],
   "source": [
    "df['CASE_COUNT'].describe() #resumo estatistico"
   ]
  },
  {
   "cell_type": "code",
   "execution_count": 36,
   "metadata": {},
   "outputs": [],
   "source": [
    "#import matplotlib.pyplot as plt \n"
   ]
  },
  {
   "cell_type": "code",
   "execution_count": null,
   "metadata": {},
   "outputs": [],
   "source": []
  }
 ],
 "metadata": {
  "kernelspec": {
   "display_name": "Python 3",
   "language": "python",
   "name": "python3"
  },
  "language_info": {
   "codemirror_mode": {
    "name": "ipython",
    "version": 3
   },
   "file_extension": ".py",
   "mimetype": "text/x-python",
   "name": "python",
   "nbconvert_exporter": "python",
   "pygments_lexer": "ipython3",
   "version": "3.8.3"
  }
 },
 "nbformat": 4,
 "nbformat_minor": 4
}
